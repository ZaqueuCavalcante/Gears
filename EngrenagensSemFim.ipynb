{
  "nbformat": 4,
  "nbformat_minor": 0,
  "metadata": {
    "colab": {
      "name": "EngrenagensSemFim.ipynb",
      "provenance": [],
      "collapsed_sections": [],
      "toc_visible": true,
      "authorship_tag": "ABX9TyNGe5pLAJdlT50BSd5Qihrb",
      "include_colab_link": true
    },
    "kernelspec": {
      "name": "python3",
      "display_name": "Python 3"
    }
  },
  "cells": [
    {
      "cell_type": "markdown",
      "metadata": {
        "id": "view-in-github",
        "colab_type": "text"
      },
      "source": [
        "<a href=\"https://colab.research.google.com/github/ZaqueuCavalcante/Gears/blob/master/EngrenagensSemFim.ipynb\" target=\"_parent\"><img src=\"https://colab.research.google.com/assets/colab-badge.svg\" alt=\"Open In Colab\"/></a>"
      ]
    },
    {
      "cell_type": "markdown",
      "metadata": {
        "id": "I9QlUv0oO2eW"
      },
      "source": [
        "# Engrenagens cilíndricas sem-fim - Equação AGMA\n",
        "\n",
        "\n"
      ]
    },
    {
      "cell_type": "markdown",
      "metadata": {
        "id": "J7F_v6LbU5yH"
      },
      "source": [
        "## Exemplo 15-4\n",
        "\n",
        "Projete um engrazamento redutor de velocidade de engranagens sem-fim de **15 hp**, com relação de redução de **13:1**, para o alimentador de um moinho de madeira serrada usado diariamente de **3 a 10 horas**.\n",
        "\n",
        "Um motor de indução com rotor de gaiola de **1200 rev/min** aciona o alimentador do moinho (**K_a = 1.25**), à temperatura ambiente de **70 °F**."
      ]
    },
    {
      "cell_type": "code",
      "metadata": {
        "id": "GkHwX6gGQmhG",
        "outputId": "c9cd1421-bb8f-40db-96b0-a55f5fb68e37",
        "colab": {
          "base_uri": "https://localhost:8080/",
          "height": 338
        }
      },
      "source": [
        "# Decisões a priori\n",
        "\n",
        "# Função:\n",
        "H_0 = 15   # [hp] - Potência de entrada.\n",
        "n_W = 1200   # [rev/min] - Velocidade angular do pinhão.\n",
        "m_G = 13   # [] - Razão de velocidades.\n",
        "K_a = 1.25   # [] - ?\n",
        "\n",
        "# Fator de projeto:\n",
        "n_d = 1.2   # [] - Fator de projeto.\n",
        "\n",
        "# Materiais e processos:\n",
        "materialPinhao = \"aço-liga endurecido superficialmente\"\n",
        "materialCoroa = \"bronze fundida em areia\"\n",
        "\n",
        "# Número de roscas no pinhão:\n",
        "# [14.5, 17.5, 20, 22.5, 25, 27.5, 30]\n",
        "phi_n = 20   # [°] - Ângulo de pressão normal.\n",
        "N_W = 1   # [dentes] - Número de dentes do pinhão.\n",
        "from dentesCoroa import numeroDentesCoroa\n",
        "N_G = numeroDentesCoroa(m_G, N_W, phi_n)   # [dentes] - Número de dentes da coroa."
      ],
      "execution_count": 28,
      "outputs": [
        {
          "output_type": "error",
          "ename": "TypeError",
          "evalue": "ignored",
          "traceback": [
            "\u001b[0;31m---------------------------------------------------------------------------\u001b[0m",
            "\u001b[0;31mTypeError\u001b[0m                                 Traceback (most recent call last)",
            "\u001b[0;32m<ipython-input-28-6d35b2e2a120>\u001b[0m in \u001b[0;36m<module>\u001b[0;34m()\u001b[0m\n\u001b[1;32m     19\u001b[0m \u001b[0mN_W\u001b[0m \u001b[0;34m=\u001b[0m \u001b[0;36m1\u001b[0m   \u001b[0;31m# [dentes] - Número de dentes do pinhão.\u001b[0m\u001b[0;34m\u001b[0m\u001b[0;34m\u001b[0m\u001b[0m\n\u001b[1;32m     20\u001b[0m \u001b[0;32mfrom\u001b[0m \u001b[0mdentesCoroa\u001b[0m \u001b[0;32mimport\u001b[0m \u001b[0mnumeroDentesCoroa\u001b[0m\u001b[0;34m\u001b[0m\u001b[0;34m\u001b[0m\u001b[0m\n\u001b[0;32m---> 21\u001b[0;31m \u001b[0mN_G\u001b[0m \u001b[0;34m=\u001b[0m \u001b[0mnumeroDentesCoroa\u001b[0m\u001b[0;34m(\u001b[0m\u001b[0mm_G\u001b[0m\u001b[0;34m,\u001b[0m \u001b[0mN_W\u001b[0m\u001b[0;34m,\u001b[0m \u001b[0mphi_n\u001b[0m\u001b[0;34m)\u001b[0m   \u001b[0;31m# [dentes] - Número de dentes da coroa.\u001b[0m\u001b[0;34m\u001b[0m\u001b[0;34m\u001b[0m\u001b[0m\n\u001b[0m",
            "\u001b[0;32m/content/dentesCoroa.py\u001b[0m in \u001b[0;36mnumeroDentesCoroa\u001b[0;34m(m_G, N_W, phi_n)\u001b[0m\n\u001b[1;32m      7\u001b[0m         \u001b[0mN_G_min\u001b[0m \u001b[0;34m=\u001b[0m \u001b[0mgetN_G_minimo\u001b[0m\u001b[0;34m(\u001b[0m\u001b[0mphi_n\u001b[0m\u001b[0;34m)\u001b[0m\u001b[0;34m\u001b[0m\u001b[0;34m\u001b[0m\u001b[0m\n\u001b[1;32m      8\u001b[0m         \u001b[0;32mif\u001b[0m \u001b[0;34m(\u001b[0m\u001b[0mN_G\u001b[0m \u001b[0;34m<\u001b[0m \u001b[0mN_G_min\u001b[0m\u001b[0;34m)\u001b[0m\u001b[0;34m:\u001b[0m\u001b[0;34m\u001b[0m\u001b[0;34m\u001b[0m\u001b[0m\n\u001b[0;32m----> 9\u001b[0;31m             \u001b[0;32mreturn\u001b[0m \u001b[0;34m\"N_G = {} e N_G_min = {}\"\u001b[0m\u001b[0;34m.\u001b[0m\u001b[0mformat\u001b[0m\u001b[0;34m(\u001b[0m\u001b[0mN_G\u001b[0m\u001b[0;34m,\u001b[0m \u001b[0mN_G_min\u001b[0m\u001b[0;34m)\u001b[0m\u001b[0;34m\u001b[0m\u001b[0;34m\u001b[0m\u001b[0m\n\u001b[0m\u001b[1;32m     10\u001b[0m         \u001b[0;32mreturn\u001b[0m \u001b[0mN_G\u001b[0m\u001b[0;34m\u001b[0m\u001b[0;34m\u001b[0m\u001b[0m\n\u001b[1;32m     11\u001b[0m     \u001b[0;32mreturn\u001b[0m \u001b[0;34m\"Ângulo fora do range.\"\u001b[0m\u001b[0;34m\u001b[0m\u001b[0;34m\u001b[0m\u001b[0m\n",
            "\u001b[0;31mTypeError\u001b[0m: must be str, not int"
          ]
        }
      ]
    },
    {
      "cell_type": "code",
      "metadata": {
        "id": "5igsDYKyXwJN"
      },
      "source": [
        "# Decisões de projeto\n",
        "\n",
        "# Passo axial do pinhão:\n",
        "p_x = \n",
        "\n",
        "# Diâmetro primitivo do pinhão:\n",
        "d_W = \n",
        "\n",
        "# Largura de face da coroa:\n",
        "F_G = \n",
        "\n",
        "# Área lateral da carcaça:\n",
        "A = "
      ],
      "execution_count": null,
      "outputs": []
    }
  ]
}